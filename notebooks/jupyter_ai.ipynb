{
 "cells": [
  {
   "cell_type": "code",
   "execution_count": null,
   "id": "cd66f85c-e36d-4933-aa26-626fe0229f8c",
   "metadata": {
    "editable": true,
    "slideshow": {
     "slide_type": ""
    },
    "tags": []
   },
   "outputs": [],
   "source": [
    "%load_ext jupyter_ai_magics\n",
    "# Config:\n",
    "# LLM:         ollama pull huggingface.co/lmstudio-community/DeepCoder-14B-Preview-GGUF:Q4_K_M\n",
    "# Embeddings:  ollama pull nomic-embed-text\n",
    "\n",
    "# https://jupyter-ai.readthedocs.io/en/latest/users/index.html#learning-arxiv-files\n",
    "# /learn -r arxiv 2404.18558\n",
    "# /ask What bias are found in LLMs?\n"
   ]
  },
  {
   "cell_type": "code",
   "execution_count": null,
   "id": "a0eade46-f0fd-489c-ab28-bbc2adbb8ef0",
   "metadata": {},
   "outputs": [],
   "source": [
    "%ai help"
   ]
  },
  {
   "cell_type": "code",
   "execution_count": null,
   "id": "d4cf37e2-c275-4982-aee5-5edcadd416c4",
   "metadata": {},
   "outputs": [],
   "source": [
    "%ai list"
   ]
  },
  {
   "cell_type": "code",
   "execution_count": null,
   "id": "dd013ba0-b49f-4cb7-8c14-a87e961122a9",
   "metadata": {},
   "outputs": [],
   "source": [
    "%%ai ollama:huggingface.co/lmstudio-community/DeepCoder-14B-Preview-GGUF:Q4_K_M -f code\n",
    "A function that computes the lowest common multiples of two integers, and\n",
    "a function that runs 5 test cases of the lowest common multiple function"
   ]
  },
  {
   "cell_type": "code",
   "execution_count": null,
   "id": "894edb74-c697-46b1-b6ef-94409b157499",
   "metadata": {},
   "outputs": [],
   "source": [
    "import math\n",
    "\n",
    "def lcm(a, b):\n",
    "    if a == 0 or b == 0:\n",
    "        return 0\n",
    "    return abs(a * b) // math.gcd(abs(a), abs(b))\n",
    "\n",
    "print(lcm(4, 6))   # Expected output: 12\n",
    "print(lcm(0, 5))   # Expected output: 0\n",
    "print(lcm(-4, 6))  # Expected output: 12\n",
    "print(lcm(7, 13))  # Expected output: 91\n",
    "print(lcm(-8, -12))# Expected output: 24"
   ]
  }
 ],
 "metadata": {
  "kernelspec": {
   "display_name": "Python 3 (ipykernel)",
   "language": "python",
   "name": "python3"
  },
  "language_info": {
   "codemirror_mode": {
    "name": "ipython",
    "version": 3
   },
   "file_extension": ".py",
   "mimetype": "text/x-python",
   "name": "python",
   "nbconvert_exporter": "python",
   "pygments_lexer": "ipython3",
   "version": "3.12.9"
  }
 },
 "nbformat": 4,
 "nbformat_minor": 5
}
