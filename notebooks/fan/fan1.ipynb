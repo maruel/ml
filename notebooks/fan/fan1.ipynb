{
 "cells": [
  {
   "cell_type": "code",
   "execution_count": null,
   "id": "4a39d226-156e-4fa8-a878-6ca729a09bff",
   "metadata": {},
   "outputs": [],
   "source": [
    "# Inspired by https://github.com/jlamprou/Fourier-Analysis-Networks-FAN/blob/main/fan.py\n",
    "\n",
    "import torch\n",
    "from torch import nn\n",
    "import torch.nn.functional as F\n",
    "\n",
    "class FANLayer(nn.Module):\n",
    "    def __init__(self, input_dim, output_dim):\n",
    "        super(FANLayer, self).__init__()\n",
    "        self.input_dim = input_dim\n",
    "        self.output_dim = output_dim\n",
    "        # Set d_p to 1/4 of the output dimension\n",
    "        self.d_p = output_dim // 4\n",
    "        self.d_p_bar = output_dim - 2 * self.d_p\n",
    "        # Initialize learnable parameters\n",
    "        self.W_p = nn.Parameter(torch.Tensor(input_dim, self.d_p))\n",
    "        self.W_p_bar = nn.Parameter(torch.Tensor(input_dim, self.d_p_bar))\n",
    "        self.B_p_bar = nn.Parameter(torch.Tensor(self.d_p_bar))\n",
    "        # Initialize weights\n",
    "        nn.init.xavier_uniform_(self.W_p)\n",
    "        nn.init.xavier_uniform_(self.W_p_bar)\n",
    "        nn.init.zeros_(self.B_p_bar)\n",
    "        \n",
    "    def forward(self, x):\n",
    "        # Compute cos(W_p x)\n",
    "        cos_term = torch.cos(F.linear(x, self.W_p))\n",
    "        # Compute sin(W_p x)\n",
    "        sin_term = torch.sin(F.linear(x, self.W_p))\n",
    "        # Compute σ(B_p̄ + W_p̄ x)\n",
    "        linear_term = F.linear(x, self.W_p_bar, self.B_p_bar)\n",
    "        activation_term = F.gelu(linear_term)\n",
    "        # Concatenate the results\n",
    "        return torch.cat([cos_term, sin_term, activation_term], dim=-1)"
   ]
  },
  {
   "cell_type": "code",
   "execution_count": null,
   "id": "6758236c-9d62-4300-a937-4c700d95d068",
   "metadata": {},
   "outputs": [],
   "source": [
    "# Initialize a FAN layer\n",
    "input_dim = 64\n",
    "output_dim = 128\n",
    "fan_layer = FANLayer(input_dim, output_dim)\n",
    "\n",
    "# Create a random input tensor\n",
    "x = torch.randn(32, input_dim)  # batch size of 32\n",
    "\n",
    "# Pass the input through the FAN layer\n",
    "output = fan_layer(x)\n",
    "\n",
    "print(output.shape)  # Should be torch.Size([32, 128])"
   ]
  },
  {
   "cell_type": "code",
   "execution_count": null,
   "id": "dc261b22-891f-468d-914f-e4bd7d508aed",
   "metadata": {},
   "outputs": [],
   "source": []
  }
 ],
 "metadata": {
  "kernelspec": {
   "display_name": "Python 3 (ipykernel)",
   "language": "python",
   "name": "python3"
  },
  "language_info": {
   "codemirror_mode": {
    "name": "ipython",
    "version": 3
   },
   "file_extension": ".py",
   "mimetype": "text/x-python",
   "name": "python",
   "nbconvert_exporter": "python",
   "pygments_lexer": "ipython3",
   "version": "3.11.11"
  }
 },
 "nbformat": 4,
 "nbformat_minor": 5
}
