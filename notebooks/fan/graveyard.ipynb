{
 "cells": [
  {
   "cell_type": "code",
   "execution_count": null,
   "id": "6ee0a419-b4ab-4628-b2bc-e251bb02fa66",
   "metadata": {},
   "outputs": [],
   "source": [
    "#def generate_ring_points(num_points, seed, grid_size=1000, inner_diameter=300, outer_diameter=400):\n",
    "#    \"\"\"Creates tensor of points forming a ring on a grid.\"\"\"\n",
    "#    torch.manual_seed(seed)\n",
    "#    np.random.seed(seed)\n",
    "#    center = grid_size/2\n",
    "#    inner_radius, outer_radius = inner_diameter/2, outer_diameter/2    \n",
    "#    x = np.random.uniform(0, grid_size, num_points)\n",
    "#    y = np.random.uniform(0, grid_size, num_points)\n",
    "#    # Calculate distances from center.\n",
    "#    distances = np.sqrt((x - center)**2 + (y - center)**2)    \n",
    "#    # Create ring indicator (1 if in ring, 0 otherwise)\n",
    "#    in_ring = np.where((distances >= inner_radius) & (distances <= outer_radius), 1, 0)\n",
    "#    # Stack coordinates and ring indicator.\n",
    "#    return torch.FloatTensor(np.column_stack((x, y, in_ring)))"
   ]
  },
  {
   "cell_type": "code",
   "execution_count": null,
   "id": "695cde93-734e-4803-97ca-a6a1c3b7d632",
   "metadata": {},
   "outputs": [],
   "source": [
    "def visualize_results(model, data, losses):\n",
    "    fig, (ax1, ax2) = plt.subplots(1, 2, figsize=(15, 6))\n",
    "    # Plot loss\n",
    "    ax1.plot(losses)\n",
    "    ax1.set_title('Training Loss')\n",
    "    ax1.set_xlabel('Epochs')\n",
    "    ax1.set_ylabel('Loss')\n",
    "    \n",
    "#    # Plot decision boundary.\n",
    "#    # Create a grid of points.\n",
    "#    if True:\n",
    "#        grid_size = 1000\n",
    "#        xx, yy = np.meshgrid(np.linspace(0, grid_size, 100), np.linspace(0, grid_size, 100))\n",
    "#        grid_points = np.c_[xx.ravel(), yy.ravel()]\n",
    "#        # Evaluate model on grid points\n",
    "#        with torch.no_grad():\n",
    "#            Z = model(torch.FloatTensor(grid_points)).numpy().reshape(xx.shape)\n",
    "#        # Plot decision boundary\n",
    "#        ax2.contourf(xx, yy, Z, cmap=plt.cm.RdBu, alpha=0.6)\n",
    "#        # Plot data points\n",
    "#        points = data[:, :2].numpy()\n",
    "#        value = data[:, 2].numpy()\n",
    "#        ax2.scatter(points[value==0, 0], points[value==0, 1], c='red', label='Outside Ring')\n",
    "#        ax2.scatter(points[value==1, 0], points[value==1, 1], c='blue', label='Inside Ring')\n",
    "#        ax2.set_title('Decision Boundary')\n",
    "#        ax2.set_xlabel('X')\n",
    "#        ax2.set_ylabel('Y')\n",
    "#        ax2.legend()\n",
    "#        ax2.set_aspect('equal')\n",
    "#    else:\n",
    "#        grid_size = 1000\n",
    "#        xx, yy = np.meshgrid(np.linspace(0, grid_size, 100), np.linspace(0, grid_size, 100))\n",
    "#        grid_points = np.c_[xx.ravel(), yy.ravel()]\n",
    "#        # Evaluate model on grid points\n",
    "#        with torch.no_grad():\n",
    "#            Z = model(torch.FloatTensor(grid_points)).numpy().reshape(xx.shape)\n",
    "#        # Plot decision boundary\n",
    "#        ax2.contourf(xx, yy, Z, cmap=plt.cm.RdBu, alpha=0.6)\n",
    "#        # Plot data points\n",
    "#        points = data[:, :2].numpy()\n",
    "#        value = data[:, 2].numpy()\n",
    "#        cbar = plt.colorbar(ax2, label='Value (0 to 1)')\n",
    "#        ax2.scatter(points[:, 0], points[:, 1], c=value, cmap='viridis') #, s=20)\n",
    "#        ax2.set_title('Decision Boundary')\n",
    "#        ax2.set_xlabel('X')\n",
    "#        ax2.set_ylabel('Y')\n",
    "#        ax2.legend()\n",
    "#        ax2.set_aspect('equal')\n",
    "#    plt.tight_layout()\n",
    "#    plt.show()"
   ]
  },
  {
   "cell_type": "code",
   "execution_count": null,
   "id": "deef98c6-e70c-4418-99dc-56aaf92acb9c",
   "metadata": {},
   "outputs": [],
   "source": [
    "def generate_ring_points(num_points, seed, grid_size=1000, inner_diameter=300, outer_diameter=400):\n",
    "    image = create_ring_image(image_width=grid_size,image_height =grid_size, inner_diameter=inner_diameter, outer_diameter=outer_diameter)\n",
    "    return select_pixels(image, num_points, seed)"
   ]
  }
 ],
 "metadata": {
  "kernelspec": {
   "display_name": "Python 3 (ipykernel)",
   "language": "python",
   "name": "python3"
  },
  "language_info": {
   "codemirror_mode": {
    "name": "ipython",
    "version": 3
   },
   "file_extension": ".py",
   "mimetype": "text/x-python",
   "name": "python",
   "nbconvert_exporter": "python",
   "pygments_lexer": "ipython3",
   "version": "3.11.11"
  }
 },
 "nbformat": 4,
 "nbformat_minor": 5
}
